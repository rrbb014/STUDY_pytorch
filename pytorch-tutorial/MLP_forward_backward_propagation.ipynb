{
 "cells": [
  {
   "cell_type": "markdown",
   "metadata": {},
   "source": [
    "# MLP Forward / Backward propagation"
   ]
  },
  {
   "cell_type": "code",
   "execution_count": 2,
   "metadata": {
    "collapsed": true
   },
   "outputs": [],
   "source": [
    "import numpy as np\n",
    "import torch\n",
    "import torch.nn as nn\n",
    "import torch.nn.init as init\n",
    "import torch.optim as optim\n",
    "from torch.autograd import Variable"
   ]
  },
  {
   "cell_type": "code",
   "execution_count": 5,
   "metadata": {
    "collapsed": true
   },
   "outputs": [],
   "source": [
    "# data generation\n",
    "NUM_DATA = 1000\n",
    "NUM_EPOCH = 5000\n",
    "\n",
    "noise = init.normal(torch.FloatTensor(NUM_DATA, 1), std=0.5)\n",
    "\n",
    "x = init.uniform(torch.Tensor(NUM_DATA, 1), -15, 15)\n",
    "y = 8*(x**2) + 7*x + 3\n",
    "\n",
    "x_noise = x + noise\n",
    "y_noise = 8*(x_noise**2) + 7*x_noise + 3"
   ]
  },
  {
   "cell_type": "code",
   "execution_count": 6,
   "metadata": {
    "collapsed": true
   },
   "outputs": [],
   "source": [
    "# model\n",
    "\n",
    "model = nn.Sequential(\n",
    "            nn.Linear(1, 10),\n",
    "            nn.Sigmoid(),\n",
    "            nn.Linear(10, 6),\n",
    "            nn.Sigmoid(),\n",
    "            nn.Linear(6, 1),\n",
    ").cuda()"
   ]
  },
  {
   "cell_type": "code",
   "execution_count": 7,
   "metadata": {
    "collapsed": true
   },
   "outputs": [],
   "source": [
    "loss_function = nn.L1Loss()\n",
    "optimizer = optim.SGD(model.parameters(), lr=0.001)"
   ]
  },
  {
   "cell_type": "code",
   "execution_count": 8,
   "metadata": {
    "collapsed": false
   },
   "outputs": [
    {
     "name": "stdout",
     "output_type": "stream",
     "text": [
      "\n",
      " 0.0360\n",
      "-0.6966\n",
      " 0.2960\n",
      "-0.8179\n",
      "-0.6182\n",
      " 0.5704\n",
      "-0.8708\n",
      "-0.2502\n",
      " 0.0323\n",
      " 0.5534\n",
      "[torch.cuda.FloatTensor of size 10x1 (GPU 0)]\n",
      " \n",
      " 0.8929\n",
      "-0.2632\n",
      "-0.6537\n",
      " 0.5354\n",
      "-0.4859\n",
      " 0.3812\n",
      "-0.9279\n",
      "-0.4407\n",
      " 0.1454\n",
      " 0.3691\n",
      "[torch.cuda.FloatTensor of size 10 (GPU 0)]\n",
      "\n"
     ]
    }
   ],
   "source": [
    "loss_arr = []\n",
    "label = Variable(y_noise.cuda())\n",
    "\n",
    "for _ in range(NUM_EPOCH):\n",
    "    output = model(Variable(x.cuda()))\n",
    "    optimizer.zero_grad()\n",
    "    \n",
    "    loss = loss_function(output, label)\n",
    "    loss.backward()\n",
    "    optimizer.step()\n",
    "    \n",
    "    loss_arr.append(loss.cpu().data.numpy()[0])\n",
    "    \n",
    "param_list = list(model.parameters())\n",
    "print(param_list[0].data, param_list[1].data)"
   ]
  }
 ],
 "metadata": {
  "kernelspec": {
   "display_name": "Python [pytorch]",
   "language": "python",
   "name": "Python [pytorch]"
  },
  "language_info": {
   "codemirror_mode": {
    "name": "ipython",
    "version": 3
   },
   "file_extension": ".py",
   "mimetype": "text/x-python",
   "name": "python",
   "nbconvert_exporter": "python",
   "pygments_lexer": "ipython3",
   "version": "3.6.4"
  }
 },
 "nbformat": 4,
 "nbformat_minor": 1
}
