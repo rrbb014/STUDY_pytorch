{
 "cells": [
  {
   "cell_type": "markdown",
   "metadata": {},
   "source": [
    "# Autograd : automatic differentiation\n",
    "\n",
    "http://pytorch.org/tutorials/beginner/blitz/autograd_tutorial.html#sphx-glr-beginner-blitz-autograd-tutorial-py\n",
    "\n",
    "Pytorch에서 모든 신경망의 중심은 autograd 패키지이다.\n",
    "간략하게 처음 맛보기 하고 첫 신경망을 학습시켜보자.\n",
    "\n",
    "autograd 패키지는 텐서 객체 상의 모든 연산을 위한 자동 미분을 제공한다. define-by-run 프레임워크로서, 당신이 작성한 코드가 동작할때 역전파가 정의된다는걸 의미한다. 그리고 매 iteration이 달라질수있다는걸 의미한다.\n",
    "\n",
    "몇 가지 예시로 개념을 살펴보자.\n",
    "\n"
   ]
  },
  {
   "cell_type": "markdown",
   "metadata": {},
   "source": [
    "### Variable\n",
    "\n",
    "autograd.Variable은 패키지의 중심 클래스 이다. 텐서 객체를 감싸고 정의된 연산의 거의 전부를 지원한다. \n",
    "당신의 연산이 완료되면 \\.backward()를 호출할 수 있고 모든 그라디언트를 자동으로 계산가능하다.\n",
    "\n",
    "당신은 \\.data attribute를 통해 텐서객체의 raw data에 접근가능하다. 반면, gradient에 관해선 이 변수는 \\.grad attribute로 통합한다.\n",
    "\n",
    "![](http://pytorch.org/tutorials/_images/Variable.png)\n",
    "\n",
    "한가지 더, autograd 구현에서 매우 중요한 클래스는 Function이다.\n",
    "\n",
    "Variable과 Function 클래스는 밀접한 관련이 있고 연산의 완전한 순서가 기록된 무방향 그래프를 만든다.\n",
    "\n",
    "각 변수는 Variable클래스를 구현하는 Function클래스를 참조하는 \\.grad_fn attribute를 갖는다. (사용자가 구현한 Variable클래스 객체는 제외한다. 즉, grad_fn이 None이다.)\n",
    "\n",
    "만약 당신이 미분 도함수를 계산하고싶다면, 당신은 Variable객체의 \\.backward()를 호출가능하다. 만약 Variable객체가 scalar값이라면(즉, 엘리먼트가 하나라면), 당신은 backward()를 명시할 필요는 없다. 하지만 만약 다수의 엘리먼트를 갖는다면 grad_output 인자를 명시할 필요가있다."
   ]
  },
  {
   "cell_type": "code",
   "execution_count": 1,
   "metadata": {
    "collapsed": true
   },
   "outputs": [],
   "source": [
    "import torch\n",
    "from torch.autograd import Variable"
   ]
  },
  {
   "cell_type": "markdown",
   "metadata": {},
   "source": [
    "### Create a Variable"
   ]
  },
  {
   "cell_type": "code",
   "execution_count": 2,
   "metadata": {
    "collapsed": false
   },
   "outputs": [
    {
     "name": "stdout",
     "output_type": "stream",
     "text": [
      "Variable containing:\n",
      " 1  1\n",
      " 1  1\n",
      "[torch.FloatTensor of size 2x2]\n",
      "\n"
     ]
    }
   ],
   "source": [
    "x = Variable(torch.ones(2,2), requires_grad=True)\n",
    "print(x)"
   ]
  },
  {
   "cell_type": "code",
   "execution_count": 3,
   "metadata": {
    "collapsed": false
   },
   "outputs": [
    {
     "name": "stdout",
     "output_type": "stream",
     "text": [
      "Variable containing:\n",
      " 3  3\n",
      " 3  3\n",
      "[torch.FloatTensor of size 2x2]\n",
      "\n"
     ]
    }
   ],
   "source": [
    "y = x + 2\n",
    "print(y)"
   ]
  },
  {
   "cell_type": "code",
   "execution_count": 4,
   "metadata": {
    "collapsed": false
   },
   "outputs": [
    {
     "name": "stdout",
     "output_type": "stream",
     "text": [
      "<AddBackward0 object at 0x00000228C15710B8>\n"
     ]
    }
   ],
   "source": [
    "print(y.grad_fn)"
   ]
  },
  {
   "cell_type": "markdown",
   "metadata": {},
   "source": [
    "좀 더 y에 연산을 해보자."
   ]
  },
  {
   "cell_type": "code",
   "execution_count": 5,
   "metadata": {
    "collapsed": false
   },
   "outputs": [
    {
     "name": "stdout",
     "output_type": "stream",
     "text": [
      "Variable containing:\n",
      " 27  27\n",
      " 27  27\n",
      "[torch.FloatTensor of size 2x2]\n",
      " Variable containing:\n",
      " 27\n",
      "[torch.FloatTensor of size 1]\n",
      "\n"
     ]
    }
   ],
   "source": [
    "z = y * y * 3\n",
    "out = z.mean()\n",
    "\n",
    "print(z, out)"
   ]
  },
  {
   "cell_type": "markdown",
   "metadata": {},
   "source": [
    "이제 out.backward()로 역전파를 해보자.\n",
    "out.backward(torch.Tensor([1,0])) 과 동치이다."
   ]
  },
  {
   "cell_type": "code",
   "execution_count": 6,
   "metadata": {
    "collapsed": true
   },
   "outputs": [],
   "source": [
    "out.backward()"
   ]
  },
  {
   "cell_type": "markdown",
   "metadata": {},
   "source": [
    "그라디언트를 출력해보자.$\\frac{\\partial(out)}{\\partial x}$"
   ]
  },
  {
   "cell_type": "code",
   "execution_count": 7,
   "metadata": {
    "collapsed": false
   },
   "outputs": [
    {
     "name": "stdout",
     "output_type": "stream",
     "text": [
      "Variable containing:\n",
      " 4.5000  4.5000\n",
      " 4.5000  4.5000\n",
      "[torch.FloatTensor of size 2x2]\n",
      "\n"
     ]
    }
   ],
   "source": [
    "print(x.grad)"
   ]
  },
  {
   "cell_type": "markdown",
   "metadata": {},
   "source": [
    "당신은 4.5의 행렬을 얻어야한다. \n",
    "\n",
    "out변수를 'o'라고 해보자. \n",
    "\n",
    "$o = \\frac{1}{4}\\sum_i z_i$\n",
    "\n",
    "$z_i = 3(x_i + 2)^2 = z_i \\bigr\\rvert_{x_i=1} = 3(1+2)^2 = 27$\n",
    "\n",
    "$\\frac{\\partial z}{\\partial x} = 6(x_i+2)$\n",
    "\n",
    "$\\frac{\\partial o}{\\partial x} = \\frac{6}{4}(x_i+2) = \\frac{3}{2}(x_i+2)$\n",
    "\n",
    "$\\frac{\\partial o}{\\partial x} \\bigr\\rvert_{x_i=1} = \\frac{9}{2} = 4.5$"
   ]
  },
  {
   "cell_type": "markdown",
   "metadata": {},
   "source": [
    "autograd로 이런저런것도 가능하다."
   ]
  },
  {
   "cell_type": "code",
   "execution_count": 19,
   "metadata": {
    "collapsed": false
   },
   "outputs": [
    {
     "name": "stdout",
     "output_type": "stream",
     "text": [
      "Variable containing:\n",
      "  667.7912\n",
      "-1068.5084\n",
      " -320.8718\n",
      "[torch.FloatTensor of size 3]\n",
      "\n"
     ]
    }
   ],
   "source": [
    "x = torch.randn(3)\n",
    "x = Variable(x, requires_grad=True)\n",
    "\n",
    "y = x * 2\n",
    "cnt = 0\n",
    "while y.data.norm() < 1000:\n",
    "    cnt += 1\n",
    "    y = y * 2\n",
    "    \n",
    "print(y)"
   ]
  },
  {
   "cell_type": "code",
   "execution_count": 20,
   "metadata": {
    "collapsed": false
   },
   "outputs": [
    {
     "data": {
      "text/plain": [
       "8"
      ]
     },
     "execution_count": 20,
     "metadata": {},
     "output_type": "execute_result"
    }
   ],
   "source": [
    "cnt"
   ]
  },
  {
   "cell_type": "code",
   "execution_count": 22,
   "metadata": {
    "collapsed": false
   },
   "outputs": [
    {
     "name": "stdout",
     "output_type": "stream",
     "text": [
      "Variable containing:\n",
      "  51.2000\n",
      " 512.0000\n",
      "   0.0512\n",
      "[torch.FloatTensor of size 3]\n",
      "\n"
     ]
    }
   ],
   "source": [
    "gradients = torch.FloatTensor([0.1, 1.0, 0.0001])\n",
    "y.backward(gradients)\n",
    "\n",
    "print(x.grad)"
   ]
  },
  {
   "cell_type": "code",
   "execution_count": 23,
   "metadata": {
    "collapsed": false
   },
   "outputs": [
    {
     "data": {
      "text/plain": [
       "Variable containing:\n",
       " 1.3043\n",
       "-2.0869\n",
       "-0.6267\n",
       "[torch.FloatTensor of size 3]"
      ]
     },
     "execution_count": 23,
     "metadata": {},
     "output_type": "execute_result"
    }
   ],
   "source": [
    "x"
   ]
  },
  {
   "cell_type": "code",
   "execution_count": 24,
   "metadata": {
    "collapsed": false
   },
   "outputs": [
    {
     "data": {
      "text/plain": [
       "Variable containing:\n",
       "  667.7912\n",
       "-1068.5084\n",
       " -320.8718\n",
       "[torch.FloatTensor of size 3]"
      ]
     },
     "execution_count": 24,
     "metadata": {},
     "output_type": "execute_result"
    }
   ],
   "source": [
    "y"
   ]
  },
  {
   "cell_type": "code",
   "execution_count": 25,
   "metadata": {
    "collapsed": false
   },
   "outputs": [
    {
     "data": {
      "text/plain": [
       "Variable containing:\n",
       "  51.2000\n",
       " 512.0000\n",
       "   0.0512\n",
       "[torch.FloatTensor of size 3]"
      ]
     },
     "execution_count": 25,
     "metadata": {},
     "output_type": "execute_result"
    }
   ],
   "source": [
    "x.grad"
   ]
  },
  {
   "cell_type": "code",
   "execution_count": null,
   "metadata": {
    "collapsed": true
   },
   "outputs": [],
   "source": []
  }
 ],
 "metadata": {
  "anaconda-cloud": {},
  "kernelspec": {
   "display_name": "Python [pytorch]",
   "language": "python",
   "name": "Python [pytorch]"
  },
  "language_info": {
   "codemirror_mode": {
    "name": "ipython",
    "version": 3
   },
   "file_extension": ".py",
   "mimetype": "text/x-python",
   "name": "python",
   "nbconvert_exporter": "python",
   "pygments_lexer": "ipython3",
   "version": "3.6.4"
  }
 },
 "nbformat": 4,
 "nbformat_minor": 1
}
