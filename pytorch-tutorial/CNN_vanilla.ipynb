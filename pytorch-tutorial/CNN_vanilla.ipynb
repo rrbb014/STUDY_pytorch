{
 "cells": [
  {
   "cell_type": "code",
   "execution_count": 41,
   "metadata": {
    "collapsed": true
   },
   "outputs": [],
   "source": [
    "\n",
    "import torch\n",
    "import torch.nn as nn\n",
    "import torch.nn.init as init\n",
    "import torch.optim as optim\n",
    "import numpy as np\n",
    "\n",
    "from tqdm import trange\n",
    "from  torch.autograd import Variable\n",
    "\n",
    "import torchvision.datasets as dset\n",
    "import torchvision.transforms as transforms\n",
    "import matplotlib.pyplot as plt"
   ]
  },
  {
   "cell_type": "code",
   "execution_count": 33,
   "metadata": {
    "collapsed": false
   },
   "outputs": [],
   "source": [
    "# Hyper-Parameters\n",
    "epoch = 100\n",
    "batch_size = 16\n",
    "learning_rate = 0.001"
   ]
  },
  {
   "cell_type": "code",
   "execution_count": 9,
   "metadata": {
    "collapsed": false
   },
   "outputs": [
    {
     "name": "stdout",
     "output_type": "stream",
     "text": [
      "Downloading http://yann.lecun.com/exdb/mnist/train-images-idx3-ubyte.gz\n",
      "Downloading http://yann.lecun.com/exdb/mnist/train-labels-idx1-ubyte.gz\n",
      "Downloading http://yann.lecun.com/exdb/mnist/t10k-images-idx3-ubyte.gz\n",
      "Downloading http://yann.lecun.com/exdb/mnist/t10k-labels-idx1-ubyte.gz\n",
      "Processing...\n",
      "Done!\n"
     ]
    }
   ],
   "source": [
    "# Download_dataset\n",
    "mnist_train = dset.MNIST('./mnist_data/', train=True, transform=transforms.ToTensor(), target_transform=None, download=True)\n",
    "mnist_test = dset.MNIST('./mnist_data/', train=False, transform=transforms.ToTensor(), target_transform=None, download=True)"
   ]
  },
  {
   "cell_type": "code",
   "execution_count": 26,
   "metadata": {
    "collapsed": false
   },
   "outputs": [
    {
     "name": "stdout",
     "output_type": "stream",
     "text": [
      "train set : 60000\n",
      "test set : 10000\n",
      "torch.Size([1, 28, 28]) 5\n",
      "torch.Size([1, 28, 28]) 7\n"
     ]
    }
   ],
   "source": [
    "print(\"train set : %d\" % mnist_train.__len__())\n",
    "print(\"test set : %d\" % mnist_test.__len__())\n",
    "\n",
    "img1, label1 = mnist_train.__getitem__(0)\n",
    "img2, label2 = mnist_test.__getitem__(0)\n",
    "\n",
    "print(img1.size(), label1)\n",
    "print(img2.size(), label2)"
   ]
  },
  {
   "cell_type": "code",
   "execution_count": 27,
   "metadata": {
    "collapsed": true
   },
   "outputs": [],
   "source": [
    "train_loader = torch.utils.data.DataLoader(dataset=mnist_train, batch_size=batch_size, shuffle=True)\n",
    "test_loader = torch.utils.data.DataLoader(dataset=mnist_test, batch_size=batch_size, shuffle=True)"
   ]
  },
  {
   "cell_type": "markdown",
   "metadata": {},
   "source": [
    "### CNN model"
   ]
  },
  {
   "cell_type": "code",
   "execution_count": 28,
   "metadata": {
    "collapsed": true
   },
   "outputs": [],
   "source": [
    "class CNN(nn.Module):\n",
    "    def __init__(self):\n",
    "        super(CNN, self).__init__()\n",
    "        self.layer1 = nn.Sequential(\n",
    "                        nn.Conv2d(1, 16, 5), # 16 ch * ((28 - 5_kernel / 1_stride) + 1)\n",
    "                        nn.ReLU(),\n",
    "                        nn.Conv2d(16, 32, 5), # 32 ch * ((24-5) +1) * 20\n",
    "                        nn.ReLU(),\n",
    "                        nn.MaxPool2d(2, 2),  # 32 ch * (((20-2)/2)+1) * 10\n",
    "        )\n",
    "        \n",
    "        self.layer2 = nn.Sequential(\n",
    "                        nn.Conv2d(32, 64, 5), # 64 ch * ((10-5)+1) * 6\n",
    "                        nn.ReLU(),\n",
    "                        nn.Conv2d(64, 128, 5), # 128 ch * ((6-5) + 1) * 2\n",
    "                        nn.ReLU(),\n",
    "        )\n",
    "        self.fc = nn.Linear(in_features=128*2*2, out_features=10)\n",
    "        \n",
    "    def forward(self, x):\n",
    "        out = self.layer1(x)\n",
    "        out = self.layer2(out)\n",
    "        out = out.view(batch_size, -1)\n",
    "        out = self.fc(out)\n",
    "        return out"
   ]
  },
  {
   "cell_type": "code",
   "execution_count": 29,
   "metadata": {
    "collapsed": true
   },
   "outputs": [],
   "source": [
    "cnn = CNN()"
   ]
  },
  {
   "cell_type": "code",
   "execution_count": 30,
   "metadata": {
    "collapsed": true
   },
   "outputs": [],
   "source": [
    "loss_function = nn.CrossEntropyLoss()\n",
    "optimizer = optim.SGD(cnn.parameters(), lr=learning_rate)"
   ]
  },
  {
   "cell_type": "markdown",
   "metadata": {},
   "source": [
    "### Train phase"
   ]
  },
  {
   "cell_type": "code",
   "execution_count": 42,
   "metadata": {
    "collapsed": false,
    "scrolled": true
   },
   "outputs": [
    {
     "name": "stderr",
     "output_type": "stream",
     "text": [
      "\r",
      "  0%|                                                       | 0/100 [00:00<?, ?it/s]"
     ]
    },
    {
     "name": "stdout",
     "output_type": "stream",
     "text": [
      "Variable containing:\n",
      "1.00000e-05 *\n",
      "  2.2411\n",
      "[torch.cuda.FloatTensor of size 1 (GPU 0)]\n",
      "\n"
     ]
    },
    {
     "name": "stderr",
     "output_type": "stream",
     "text": [
      "100%|█████████████████████████████████████████████| 100/100 [31:34<00:00, 18.95s/it]\n"
     ]
    }
   ],
   "source": [
    "for e in trange(epoch):\n",
    "    if e+1 % 100 == 0:\n",
    "        print(loss)\n",
    "    for j, [image, label] in enumerate(train_loader):\n",
    "        image = Variable(image).cuda()\n",
    "        label = Variable(label).cuda()\n",
    "        cnn.cuda()\n",
    "        \n",
    "        optimizer.zero_grad()\n",
    "        result = cnn.forward(image)\n",
    "        loss = loss_function(result, label)\n",
    "        loss.backward()\n",
    "        optimizer.step()"
   ]
  },
  {
   "cell_type": "markdown",
   "metadata": {},
   "source": [
    "### Test Phase"
   ]
  },
  {
   "cell_type": "code",
   "execution_count": 44,
   "metadata": {
    "collapsed": false
   },
   "outputs": [
    {
     "name": "stdout",
     "output_type": "stream",
     "text": [
      "Test Accuracy of the model on 10000 test images : 98.740000 %\n"
     ]
    }
   ],
   "source": [
    "correct = 0\n",
    "total = 0\n",
    "\n",
    "for image, label in test_loader:\n",
    "    image = Variable(image).cuda()\n",
    "    \n",
    "    result = cnn.forward(image).cuda()\n",
    "    _, predicted = torch.max(result.data, 1)\n",
    "    total += label.size(0)\n",
    "    correct += (predicted == label.cuda()).sum()\n",
    "\n",
    "print('Test Accuracy of the model on 10000 test images : %f %%' % (100 * correct / total))"
   ]
  },
  {
   "cell_type": "markdown",
   "metadata": {},
   "source": [
    "### Result \n",
    "\n",
    "약 500회 training 실행결과 : 98.74%\n"
   ]
  }
 ],
 "metadata": {
  "kernelspec": {
   "display_name": "Python [pytorch]",
   "language": "python",
   "name": "Python [pytorch]"
  },
  "language_info": {
   "codemirror_mode": {
    "name": "ipython",
    "version": 3
   },
   "file_extension": ".py",
   "mimetype": "text/x-python",
   "name": "python",
   "nbconvert_exporter": "python",
   "pygments_lexer": "ipython3",
   "version": "3.6.4"
  }
 },
 "nbformat": 4,
 "nbformat_minor": 1
}
